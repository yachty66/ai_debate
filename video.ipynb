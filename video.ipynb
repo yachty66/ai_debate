{
 "cells": [
  {
   "cell_type": "code",
   "execution_count": null,
   "metadata": {},
   "outputs": [],
   "source": [
    "#next i want to create a version which also includes characters - how can i achieve this?\n",
    "from gtts import gTTS\n",
    "import os\n",
    "\n",
    "# Example conversation\n",
    "conversation = [\n",
    "    {\"speaker\": \"Elon\", \"text\": \"This global IT outage demonstrates the urgent need for robust, decentralized systems. Our reliance on centralized infrastructure is a massive vulnerability.\"},\n",
    "    {\"speaker\": \"Kanye\", \"text\": \"Man, this ain't just about tech. It's about power. When systems fail, it's always the little guy who suffers. The elite still get by.\"},\n",
    "    {\"speaker\": \"Elon\", \"text\": \"You're right about the impact, but decentralization is the answer. Blockchain and distributed systems could prevent such widespread failures.\"},\n",
    "    {\"speaker\": \"Kanye\", \"text\": \"Blockchain? Come on, Elon. That's just another way for tech bros to control everything. We need real people solutions, not more tech.\"},\n",
    "    {\"speaker\": \"Elon\", \"text\": \"Technology, when properly implemented, empowers people. Imagine a world where critical services can't be disrupted by a single point of failure.\"},\n",
    "    {\"speaker\": \"Kanye\", \"text\": \"I imagine a world where we ain't so dependent on these systems in the first place. We've lost touch with our humanity, our community.\"}\n",
    "]\n",
    "\n",
    "# Function to generate audio and return duration\n",
    "def generate_audio(text, filename):\n",
    "    tts = gTTS(text)\n",
    "    tts.save(filename)\n",
    "    audio = AudioSegment.from_mp3(filename)\n",
    "    return len(audio) / 1000.0  # Duration in seconds\n",
    "\n",
    "# Create timeline\n",
    "timeline = []\n",
    "current_time = 0.0\n",
    "\n",
    "for entry in conversation:\n",
    "    filename = f\"{entry['speaker']}_{current_time}.mp3\"\n",
    "    duration = generate_audio(entry['text'], filename)\n",
    "    timeline.append({\n",
    "        \"speaker\": entry[\"speaker\"],\n",
    "        \"text\": entry[\"text\"],\n",
    "        \"start_time\": current_time,\n",
    "        \"end_time\": current_time + duration,\n",
    "        \"filename\": filename\n",
    "    })\n",
    "    current_time += duration\n",
    "\n",
    "# Print timeline\n",
    "for entry in timeline:\n",
    "    print(f\"{entry['speaker']} speaks from {entry['start_time']} to {entry['end_time']}\")"
   ]
  },
  {
   "cell_type": "code",
   "execution_count": 1,
   "metadata": {},
   "outputs": [],
   "source": [
    "from PIL import Image\n",
    "\n",
    "# Open an image file\n",
    "with Image.open('kanye.png') as img:\n",
    "    # Resize image\n",
    "    img_resized = img.resize((474, 266))\n",
    "    # Save resized image\n",
    "    img_resized.save('resized_image.png')"
   ]
  },
  {
   "cell_type": "code",
   "execution_count": null,
   "metadata": {},
   "outputs": [],
   "source": []
  }
 ],
 "metadata": {
  "kernelspec": {
   "display_name": "base",
   "language": "python",
   "name": "python3"
  },
  "language_info": {
   "codemirror_mode": {
    "name": "ipython",
    "version": 3
   },
   "file_extension": ".py",
   "mimetype": "text/x-python",
   "name": "python",
   "nbconvert_exporter": "python",
   "pygments_lexer": "ipython3",
   "version": "3.11.7"
  }
 },
 "nbformat": 4,
 "nbformat_minor": 2
}
