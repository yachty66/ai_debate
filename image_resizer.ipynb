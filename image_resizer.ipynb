{
 "cells": [
  {
   "cell_type": "code",
   "execution_count": 1,
   "metadata": {},
   "outputs": [],
   "source": [
    "from PIL import Image\n",
    "\n",
    "# Open an image file\n",
    "with Image.open('kanye.png') as img:\n",
    "    # Resize image\n",
    "    img_resized = img.resize((474, 266))\n",
    "    # Save resized image\n",
    "    img_resized.save('resized_image.png')"
   ]
  },
  {
   "cell_type": "code",
   "execution_count": 4,
   "metadata": {},
   "outputs": [],
   "source": [
    "from PIL import Image\n",
    "\n",
    "# Open an image file\n",
    "with Image.open('yann.jpeg') as img:\n",
    "    # Resize image while maintaining aspect ratio\n",
    "    img.thumbnail((400, 400))\n",
    "    # Create a new image with a white background\n",
    "    new_img = Image.new(\"RGB\", (400, 400), (255, 255, 255))\n",
    "    # Paste the resized image onto the new image, centered\n",
    "    new_img.paste(img, ((400 - img.width) // 2, (400 - img.height) // 2))\n",
    "    # Save it back to disk\n",
    "    new_img.save('yann_resized.jpeg')\n",
    "\n",
    "\n",
    "     ffmpeg -i elon_video.mp4 -ss 00:01:00 -to 00:02:00 -c copy elon_video_trimmed.mp4\n",
    "10410  ffmpeg -i elon_video.mp4 -ss 00:01:00 -to 00:02:00 -c:v libx264 -c:a aac elon_video_trimmed.mp4"
   ]
  }
 ],
 "metadata": {
  "kernelspec": {
   "display_name": "base",
   "language": "python",
   "name": "python3"
  },
  "language_info": {
   "codemirror_mode": {
    "name": "ipython",
    "version": 3
   },
   "file_extension": ".py",
   "mimetype": "text/x-python",
   "name": "python",
   "nbconvert_exporter": "python",
   "pygments_lexer": "ipython3",
   "version": "3.11.7"
  }
 },
 "nbformat": 4,
 "nbformat_minor": 2
}
